{
 "cells": [
  {
   "cell_type": "code",
   "execution_count": 3,
   "metadata": {},
   "outputs": [
    {
     "name": "stdout",
     "output_type": "stream",
     "text": [
      "10  times sampling given each classifier has correct rate 0.6： 63.31 %\n",
      "20  times sampling given each classifier has correct rate 0.6： 75.53 %\n",
      "30  times sampling given each classifier has correct rate 0.6： 82.46 %\n",
      "40  times sampling given each classifier has correct rate 0.6： 87.02 %\n",
      "50  times sampling given each classifier has correct rate 0.6： 90.22 %\n",
      "60  times sampling given each classifier has correct rate 0.6： 92.54 %\n",
      "70  times sampling given each classifier has correct rate 0.6： 94.26 %\n",
      "80  times sampling given each classifier has correct rate 0.6： 95.55 %\n",
      "90  times sampling given each classifier has correct rate 0.6： 96.53 %\n",
      "100  times sampling given each classifier has correct rate 0.6： 97.29 %\n"
     ]
    }
   ],
   "source": [
    "import operator\n",
    "from functools import reduce \n",
    "\n",
    "# Choose \n",
    "def c(n, k):\n",
    "    return reduce(operator.mul, range(n - k + 1, n + 1)) / reduce(operator.mul, range(1, k + 1))\n",
    "\n",
    "\n",
    "#  // to perform integer division\n",
    "def bagging(n, p):\n",
    "    s = 0\n",
    "    for i in range(n // 2 + 1, n + 1):\n",
    "        s += c(n, i) * p ** i * (1 - p) ** (n - i)\n",
    "    return s\n",
    "# bagging(10, 0.6)\n",
    "\n",
    "\n",
    "if __name__ == \"__main__\": \n",
    "    for t in range(10, 101, 10):\n",
    "        print(t, \" times sampling given each classifier has correct rate 0.6：\", round(bagging(t, 0.6)*100, 2), \"%\")\n",
    "# help(operator.mul)\n",
    "# reduce(operator.mul, range(1, 4 + 1))\n",
    "\n",
    "# c(10, 1)"
   ]
  }
 ],
 "metadata": {
  "kernelspec": {
   "display_name": "Python 3",
   "language": "python",
   "name": "python3"
  },
  "language_info": {
   "codemirror_mode": {
    "name": "ipython",
    "version": 3
   },
   "file_extension": ".py",
   "mimetype": "text/x-python",
   "name": "python",
   "nbconvert_exporter": "python",
   "pygments_lexer": "ipython3",
   "version": "3.5.2"
  }
 },
 "nbformat": 4,
 "nbformat_minor": 2
}
