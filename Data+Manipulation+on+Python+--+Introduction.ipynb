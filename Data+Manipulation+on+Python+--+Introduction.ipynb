{
 "cells": [
  {
   "cell_type": "markdown",
   "metadata": {},
   "source": [
    "#  Useful Libraries \n",
    "\n",
    "* Pip \n",
    "* Numpy \n",
    "* Scipy\n",
    "* Matplotlib"
   ]
  },
  {
   "cell_type": "code",
   "execution_count": 3,
   "metadata": {},
   "outputs": [],
   "source": [
    "# Import Module\n",
    "import numpy as np\n",
    "import time\n",
    "from scipy.optimize import leastsq\n",
    "import scipy.optimize as opt\n",
    "import scipy\n",
    "import matplotlib.pyplot as plt\n",
    "\n",
    "import math\n",
    "\n",
    "# Function definition \n",
    "# Residual \n",
    "def residual(t, x, y):\n",
    "    return y - (t[0] * x ** 2 + t[1] * x + t[2])\n",
    "\n",
    "# Another version \n",
    "def residual2(t, x, y):\n",
    "    print (t[0], t[1])\n",
    "    return y - t[0]*np.sin(t[1]*x)\n",
    "\n",
    "\n"
   ]
  },
  {
   "cell_type": "code",
   "execution_count": 4,
   "metadata": {},
   "outputs": [
    {
     "data": {
      "text/plain": [
       "array([[ 0,  1,  2,  3,  4,  5],\n",
       "       [10, 11, 12, 13, 14, 15],\n",
       "       [20, 21, 22, 23, 24, 25],\n",
       "       [30, 31, 32, 33, 34, 35],\n",
       "       [40, 41, 42, 43, 44, 45],\n",
       "       [50, 51, 52, 53, 54, 55]])"
      ]
     },
     "execution_count": 4,
     "metadata": {},
     "output_type": "execute_result"
    }
   ],
   "source": [
    "# Use Numpy for 2-d array\n",
    "import numpy as np\n",
    "a = np.arange(0, 60, 10).reshape((-1, 1))  + np.arange(6)\n",
    "a\n",
    "# help(np.arange)\n",
    "# help(np.reshape)\n",
    "# np.arange(6)"
   ]
  },
  {
   "cell_type": "markdown",
   "metadata": {},
   "source": [
    "### Array\n",
    " Numpy provides ndarray(N dimensional array object). \n",
    " Create array by : \n",
    " * numpy array: array, reshape, shape ...\n",
    " * function: arange, linspace, logspace, fromstring, frombuffer, fromfile...\n"
   ]
  },
  {
   "cell_type": "code",
   "execution_count": 5,
   "metadata": {},
   "outputs": [
    {
     "name": "stdout",
     "output_type": "stream",
     "text": [
      "L =  [1, 2, 3, 4, 5, 6]\n",
      "a =  [1 2 3 4 5 6]\n"
     ]
    }
   ],
   "source": [
    "# By array \n",
    "L = [1, 2, 3, 4, 5, 6]\n",
    "print (\"L = \", L)\n",
    "a = np.array(L)\n",
    "print(\"a = \", a)"
   ]
  },
  {
   "cell_type": "code",
   "execution_count": 6,
   "metadata": {},
   "outputs": [
    {
     "data": {
      "text/plain": [
       "array([[ 1,  2,  3,  4],\n",
       "       [ 5,  6,  7,  8],\n",
       "       [ 9, 10, 11, 12]])"
      ]
     },
     "execution_count": 6,
     "metadata": {},
     "output_type": "execute_result"
    }
   ],
   "source": [
    "# Create multi-dim array by np.array\n",
    "b = np.array([[1, 2, 3, 4], [5, 6, 7, 8], [9, 10, 11, 12]])  # two square brackets\n",
    "b"
   ]
  },
  {
   "cell_type": "code",
   "execution_count": 7,
   "metadata": {},
   "outputs": [
    {
     "name": "stdout",
     "output_type": "stream",
     "text": [
      "(6,)\n",
      "(3, 4)\n",
      "[[ 1  2  3]\n",
      " [ 4  5  6]\n",
      " [ 7  8  9]\n",
      " [10 11 12]]\n",
      "[[ 1  2  3  4]\n",
      " [ 5  6  7  8]\n",
      " [ 9 10 11 12]]\n"
     ]
    }
   ],
   "source": [
    "# Use of the \"shape\"\n",
    "print(a.shape)\n",
    "# help(np.shape)  # Return the shape of an array.\n",
    "print(b.shape)\n",
    "\n",
    "# Force to change the shape \n",
    "b.shape = 4, 3\n",
    "print(b) # the positions of the elements in memory don't change\n",
    "\n",
    "b.shape = 3, 4\n",
    "print(b)"
   ]
  },
  {
   "cell_type": "code",
   "execution_count": 8,
   "metadata": {},
   "outputs": [
    {
     "name": "stdout",
     "output_type": "stream",
     "text": [
      "b = \n",
      " [[ 1  2  3  4]\n",
      " [ 5  6  7  8]\n",
      " [ 9 10 11 12]]\n",
      "c = \n",
      " [[ 1  2  3]\n",
      " [ 4  5  6]\n",
      " [ 7  8  9]\n",
      " [10 11 12]]\n",
      "b = \n",
      " [[ 1 10  3  4]\n",
      " [ 5  6  7  8]\n",
      " [ 9 10 11 12]]\n",
      "c = \n",
      " [[ 1 10  3]\n",
      " [ 4  5  6]\n",
      " [ 7  8  9]\n",
      " [10 11 12]]\n",
      "int64\n",
      "int64\n"
     ]
    }
   ],
   "source": [
    "\n",
    "# Create NEW array by \"reshape\", while the old one keeps unchanged \n",
    "c = b.reshape((4, -1))\n",
    "print(\"b = \\n\", b)\n",
    "print(\"c = \\n\", c)\n",
    "\n",
    "# However \n",
    "# Array b and c share the memory, modify any one will affect the other one \n",
    "b[0][1] = 10\n",
    "print(\"b = \\n\", b)\n",
    "print(\"c = \\n\", c)\n",
    "\n",
    "# Find the data type \n",
    "print(a.dtype)\n",
    "print(b.dtype)"
   ]
  },
  {
   "cell_type": "code",
   "execution_count": 9,
   "metadata": {},
   "outputs": [
    {
     "name": "stdout",
     "output_type": "stream",
     "text": [
      "[[ 1.  2.  3.  4.]\n",
      " [ 5.  6.  7.  8.]]\n",
      "[[ 1.+0.j  2.+0.j  3.+0.j  4.+0.j]\n",
      " [ 5.+0.j  6.+0.j  7.+0.j  8.+0.j]]\n",
      "[[1 2 3 4]\n",
      " [5 6 7 8]]\n"
     ]
    }
   ],
   "source": [
    "# Specify the element type by dtype \n",
    "d = np.array([[1, 2, 3, 4], [5, 6, 7, 8]], dtype = np.float)\n",
    "f = np.array([[1, 2, 3, 4], [5, 6, 7, 8]], dtype = np.complex)\n",
    "print(d)\n",
    "print(f)\n",
    "\n",
    "# Use \"astype\" to change type \n",
    "f = d.astype(np.int)\n",
    "print(f)\n",
    "\n",
    "\n",
    "# Note: don't force to change the type like this \n",
    "# d.type = np.int  # Error!\n",
    "# print(d)"
   ]
  },
  {
   "cell_type": "code",
   "execution_count": 10,
   "metadata": {},
   "outputs": [
    {
     "name": "stdout",
     "output_type": "stream",
     "text": [
      "[ 1.   1.5  2.   2.5  3.   3.5  4.   4.5  5.   5.5  6.   6.5  7.   7.5  8.\n",
      "  8.5  9.   9.5]\n"
     ]
    }
   ],
   "source": [
    "# By Function\n",
    "\n",
    "# \"arange\"\n",
    "a = np.arange(1, 10, 0.5)\n",
    "# help(np.arange)\n",
    "print(a)\n"
   ]
  },
  {
   "cell_type": "code",
   "execution_count": 11,
   "metadata": {},
   "outputs": [
    {
     "name": "stdout",
     "output_type": "stream",
     "text": [
      "b =  [  1.   2.   3.   4.   5.   6.   7.   8.   9.  10.]\n"
     ]
    }
   ],
   "source": [
    "# Use \"linspace\" to specify start, end values and length \n",
    "b = np.linspace(1, 10, 10)\n",
    "print(\"b = \", b)\n",
    "# help(np.linspace)"
   ]
  },
  {
   "cell_type": "code",
   "execution_count": 12,
   "metadata": {},
   "outputs": [
    {
     "name": "stdout",
     "output_type": "stream",
     "text": [
      "c =  [ 1.   1.9  2.8  3.7  4.6  5.5  6.4  7.3  8.2  9.1]\n",
      "c =  [  1.   2.   3.   4.   5.   6.   7.   8.   9.  10.]\n"
     ]
    }
   ],
   "source": [
    "# Specify if the end value is included : start, stop, length\n",
    "c = np.linspace(1, 10, 10, endpoint = False)\n",
    "print(\"c = \", c)\n",
    "c = np.linspace(1, 10, 10, endpoint = True)\n",
    "print(\"c = \", c)\n"
   ]
  },
  {
   "cell_type": "code",
   "execution_count": 13,
   "metadata": {},
   "outputs": [
    {
     "name": "stdout",
     "output_type": "stream",
     "text": [
      "d =  [  10.           12.91549665   16.68100537   21.5443469    27.82559402\n",
      "   35.93813664   46.41588834   59.94842503   77.42636827  100.        ]\n",
      "f =  [   1    2    4    8   16   32   64  128  256  512 1024]\n"
     ]
    }
   ],
   "source": [
    "# Use \"logspace\" to create geometric sequence \n",
    "d = np.logspace(1, 2, 10, endpoint = True)\n",
    "print(\"d = \", d)\n",
    "\n",
    "\n",
    "# Specify the base for \"logspace\"\n",
    "f = np.logspace(0, 10, 11, endpoint = True, base = 2, dtype = np.int)\n",
    "print(\"f = \", f)"
   ]
  },
  {
   "cell_type": "code",
   "execution_count": 14,
   "metadata": {},
   "outputs": [
    {
     "name": "stdout",
     "output_type": "stream",
     "text": [
      "g =  [ 97  98  99 100]\n"
     ]
    }
   ],
   "source": [
    "\n",
    "# Use \"frombuffer\", \"fromstring\", \"fromfile\" etc to create array \n",
    "s = \"abcd\"\n",
    "g = np.fromstring(s, dtype = np.int8)  # A new 1-D array initialized from raw binary or text data in a string.\n",
    "print(\"g = \", g)\n",
    "# help(np.fromstring)\n"
   ]
  },
  {
   "cell_type": "markdown",
   "metadata": {},
   "source": [
    "### Slicing in Numpy\n",
    "\n",
    "* Slicing as the standard way in Python ,for example, a[2]\n",
    "* Use integer values as subscript, boolean ... \n",
    "* Slicing in multi-dimensional array is similar. \n"
   ]
  },
  {
   "cell_type": "code",
   "execution_count": 15,
   "metadata": {},
   "outputs": [
    {
     "name": "stdout",
     "output_type": "stream",
     "text": [
      "a =  [0 1 2 3 4 5 6 7 8 9]\n",
      "The fourth element:  3\n",
      "[3 4 5]\n",
      "[0 1 2 3 4 5]\n",
      "[3 4 5 6 7 8 9]\n",
      "[1 3 5 7]\n",
      "[9 8 7 6 5 4 3 2 1 0]\n",
      "New array a: [ 0 10 20 30  4  5  6  7  8  9]\n"
     ]
    }
   ],
   "source": [
    "# Slicing in a standard way in Python \n",
    "a = np.arange(10)\n",
    "print(\"a = \", a)\n",
    "print(\"The fourth element: \", a[3])\n",
    "print(a[3:6])\n",
    "print(a[ :6])\n",
    "print(a[3: ])\n",
    "print(a[1:9:2])  # with a step of 2\n",
    "print(a[::-1]) # backwards \n",
    "a[1:4] = 10, 20, 30  # directly modify the element values \n",
    "print(\"New array a:\", a)"
   ]
  },
  {
   "cell_type": "code",
   "execution_count": 16,
   "metadata": {},
   "outputs": [
    {
     "name": "stdout",
     "output_type": "stream",
     "text": [
      "[   1.    2.    4.    8.   16.   32.   64.  128.  256.  512.]\n",
      "subscripts:  [0 2 4 6 8]\n",
      "b =  [   1.    4.   16.   64.  256.]\n",
      "[   1.    4.   10.   64.  256.]\n",
      "[   1.    2.    4.    8.   16.   32.   64.  128.  256.  512.]\n"
     ]
    }
   ],
   "source": [
    "# Use integer subscripts \n",
    "a = np.logspace(0, 9, 10, base = 2)\n",
    "print(a)\n",
    "\n",
    "i = np.arange(0, 10, 2)  # subscripts\n",
    "print(\"subscripts: \", i)\n",
    "\n",
    "b = a[i]\n",
    "print(\"b = \", b)\n",
    "\n",
    "# Note: change the value in b doesn't affect a \n",
    "b[2] = 10\n",
    "print(b)\n",
    "print(a)"
   ]
  },
  {
   "cell_type": "code",
   "execution_count": 17,
   "metadata": {},
   "outputs": [
    {
     "name": "stdout",
     "output_type": "stream",
     "text": [
      "[ 0.18242296  0.1298255   0.17778153  0.12823869  0.56978719  0.15321838\n",
      "  0.30518577  0.72490367  0.66740198  0.71856527]\n",
      "[False False False False  True False False  True  True  True]\n",
      "[ 0.56978719  0.72490367  0.66740198  0.71856527]\n"
     ]
    }
   ],
   "source": [
    "# Boolean subscript \n",
    "a = np.random.rand(10)\n",
    "print(a)\n",
    "print(a > 0.5) # logical values \n",
    "print(a[a > 0.5])"
   ]
  },
  {
   "cell_type": "code",
   "execution_count": 18,
   "metadata": {},
   "outputs": [
    {
     "name": "stdout",
     "output_type": "stream",
     "text": [
      "a: \n",
      " [[ 0  1  2  3  4  5]\n",
      " [10 11 12 13 14 15]\n",
      " [20 21 22 23 24 25]\n",
      " [30 31 32 33 34 35]\n",
      " [40 41 42 43 44 45]\n",
      " [50 51 52 53 54 55]]\n",
      "3 elements : \n",
      " [11 22 43]\n",
      "first two cols and all rows except for the first three: \n",
      " [[30 31]\n",
      " [40 41]\n",
      " [50 51]]\n"
     ]
    }
   ],
   "source": [
    "# Slicing in two dimensional array \n",
    "a = np.arange(0, 60, 10).reshape((-1, 1))  + np.arange(6)\n",
    "print(\"a: \\n\",a)\n",
    "# Slice \n",
    "print(\"3 elements : \\n\", a[(1, 2, 4), (1, 2, 3)]) # 3 elements with corresponding row and col index \n",
    "print(\"first two cols and all rows except for the first three: \\n\", a[3:, [0, 1]])\n"
   ]
  },
  {
   "cell_type": "code",
   "execution_count": 20,
   "metadata": {},
   "outputs": [
    {
     "name": "stdout",
     "output_type": "stream",
     "text": [
      "1 : 0.005264999999999631 9.999999999621423e-06 0.0018993352325967945\n",
      "5 : 7.000000000090267e-06 4.999999999810711e-06 0.7142857142494621\n",
      "35 : 8.000000000230045e-06 1.7999999999851468e-05 2.2499999999167333\n",
      "215 : 9.000000000369823e-06 5.599999999983396e-05 6.222222221948093\n",
      "1291 : 0.00014299999999956015 0.000332000000000221 2.3216783216870085\n",
      "7742 : 0.000376000000000154 0.001999000000000528 5.316489361701355\n",
      "46415 : 0.0005670000000002062 0.014793000000000056 26.0899470899377\n",
      "278255 : 0.0034250000000000114 0.07544199999999979 22.026861313868476\n",
      "1668100 : 0.02553099999999997 0.464124 18.178841408483823\n",
      "10000000 : 0.1887080000000001 2.937861 15.568290692498454\n"
     ]
    }
   ],
   "source": [
    "# Time comparison of Numpy and Phython built in math \n",
    "for j in np.logspace(0, 7, 10):\n",
    "    j = int(j)\n",
    "    x = np.linspace(0, 10, j)\n",
    "    start = time.clock()\n",
    "    y = np.sin(x)\n",
    "    t1 = time.clock() - start \n",
    "    \n",
    "    x = x.tolist()\n",
    "    start = time.clock()\n",
    "    for i, t in enumerate(x):\n",
    "        x[i] = math.sin(t)\n",
    "    t2 = time.clock() - start\n",
    "    print(j, \":\", t1, t2, t2/t1)\n",
    "# Numpy is faster when data set is large "
   ]
  },
  {
   "cell_type": "code",
   "execution_count": null,
   "metadata": {},
   "outputs": [],
   "source": [
    "    # 8.1 scipy\n",
    "    # 线性回归例1\n",
    "    # x = np.linspace(-2, 2, 50)\n",
    "    # A, B, C = 2, 3, -1\n",
    "    # y = (A * x ** 2 + B * x + C) + np.random.rand(len(x))*0.75\n",
    "    #\n",
    "    # t = leastsq(residual, [0, 0, 0], args=(x, y))\n",
    "    # theta = t[0]\n",
    "    # print '真实值：', A, B, C\n",
    "    # print '预测值：', theta\n",
    "    # y_hat = theta[0] * x ** 2 + theta[1] * x + theta[2]\n",
    "    # plt.plot(x, y, 'r-', linewidth=2, label=u'Actual')\n",
    "    # plt.plot(x, y_hat, 'g-', linewidth=2, label=u'Predict')\n",
    "    # plt.legend(loc='upper left')\n",
    "    # plt.grid()\n",
    "    # plt.show()\n",
    "\n",
    "    # # 线性回归例2\n",
    "    # x = np.linspace(0, 5, 100)\n",
    "    # A = 5\n",
    "    # w = 1.5\n",
    "    # y = A * np.sin(w*x) + np.random.rand(len(x)) - 0.5\n",
    "    #\n",
    "    # t = leastsq(residual2, [3, 1], args=(x, y))\n",
    "    # theta = t[0]\n",
    "    # print '真实值：', A, w\n",
    "    # print '预测值：', theta\n",
    "    # y_hat = theta[0] * np.sin(theta[1] * x)\n",
    "    # plt.plot(x, y, 'r-', linewidth=2, label='Actual')\n",
    "    # plt.plot(x, y_hat, 'g-', linewidth=2, label='Predict')\n",
    "    # plt.legend(loc='lower left')\n",
    "    # plt.grid()\n",
    "    # plt.show()\n",
    "\n",
    "    # # 8.2 使用scipy计算函数极值\n",
    "    # a = opt.fmin(f, 1)\n",
    "    # b = opt.fmin_cg(f, 1)\n",
    "    # c = opt.fmin_bfgs(f, 1)\n",
    "    # print a, 1/a, math.e\n",
    "    # print b\n",
    "    # print c\n",
    "\n",
    "    # marker\tdescription\n",
    "    # ”.”\tpoint\n",
    "    # ”,”\tpixel\n",
    "    # “o”\tcircle\n",
    "    # “v”\ttriangle_down\n",
    "    # “^”\ttriangle_up\n",
    "    # “<”\ttriangle_left\n",
    "    # “>”\ttriangle_right\n",
    "    # “1”\ttri_down\n",
    "    # “2”\ttri_up\n",
    "    # “3”\ttri_left\n",
    "    # “4”\ttri_right\n",
    "    # “8”\toctagon\n",
    "    # “s”\tsquare\n",
    "    # “p”\tpentagon\n",
    "    # “*”\tstar\n",
    "    # “h”\thexagon1\n",
    "    # “H”\thexagon2\n",
    "    # “+”\tplus\n",
    "    # “x”\tx\n",
    "    # “D”\tdiamond\n",
    "    # “d”\tthin_diamond\n",
    "    # “|”\tvline\n",
    "    # “_”\thline\n",
    "    # TICKLEFT\ttickleft\n",
    "    # TICKRIGHT\ttickright\n",
    "    # TICKUP\ttickup\n",
    "    # TICKDOWN\ttickdown\n",
    "    # CARETLEFT\tcaretleft\n",
    "    # CARETRIGHT\tcaretright\n",
    "    # CARETUP\tcaretup\n",
    "    # CARETDOWN\tcaretdown"
   ]
  }
 ],
 "metadata": {
  "kernelspec": {
   "display_name": "Python 3",
   "language": "python",
   "name": "python3"
  },
  "language_info": {
   "codemirror_mode": {
    "name": "ipython",
    "version": 3
   },
   "file_extension": ".py",
   "mimetype": "text/x-python",
   "name": "python",
   "nbconvert_exporter": "python",
   "pygments_lexer": "ipython3",
   "version": "3.5.2"
  }
 },
 "nbformat": 4,
 "nbformat_minor": 2
}
